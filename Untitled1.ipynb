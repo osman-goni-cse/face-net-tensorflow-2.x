{
 "cells": [
  {
   "cell_type": "code",
   "execution_count": 4,
   "id": "38503258-cc08-41ac-bb24-f03e691903ca",
   "metadata": {},
   "outputs": [
    {
     "name": "stdout",
     "output_type": "stream",
     "text": [
      "Python 3.6.13 :: Anaconda, Inc.\n"
     ]
    }
   ],
   "source": [
    "!python --version"
   ]
  },
  {
   "cell_type": "code",
   "execution_count": 5,
   "id": "819bd131-c5bb-4a48-958d-303b999cf136",
   "metadata": {},
   "outputs": [
    {
     "name": "stdout",
     "output_type": "stream",
     "text": [
      "Name: tensorflow\n",
      "Version: 1.7.0\n",
      "Summary: TensorFlow helps the tensors flow\n",
      "Home-page: https://www.tensorflow.org/\n",
      "Author: Google Inc.\n",
      "Author-email: opensource@google.com\n",
      "License: Apache 2.0\n",
      "Location: /home/osman/anaconda3/envs/py36/lib/python3.6/site-packages\n",
      "Requires: grpcio, absl-py, tensorboard, numpy, protobuf, six, gast, termcolor, astor, wheel\n",
      "Required-by: \n"
     ]
    }
   ],
   "source": [
    "!pip show tensorflow"
   ]
  },
  {
   "cell_type": "code",
   "execution_count": 3,
   "id": "a97398a6-45eb-49b0-8f57-e0e398ec7bb8",
   "metadata": {
    "collapsed": true,
    "jupyter": {
     "outputs_hidden": true
    },
    "tags": []
   },
   "outputs": [
    {
     "name": "stdout",
     "output_type": "stream",
     "text": [
      "Package                 Version\n",
      "----------------------- ---------\n",
      "absl-py                 0.15.0\n",
      "astor                   0.8.1\n",
      "astunparse              1.6.3\n",
      "backcall                0.2.0\n",
      "bleach                  1.5.0\n",
      "cached-property         1.5.2\n",
      "cachetools              4.2.4\n",
      "certifi                 2021.5.30\n",
      "charset-normalizer      2.0.12\n",
      "clang                   5.0\n",
      "cloudpickle             2.0.0\n",
      "cycler                  0.11.0\n",
      "cytoolz                 0.11.0\n",
      "dask                    2021.3.0\n",
      "dataclasses             0.8\n",
      "decorator               5.1.1\n",
      "entrypoints             0.4\n",
      "flatbuffers             1.12\n",
      "gast                    0.4.0\n",
      "google-auth             1.35.0\n",
      "google-auth-oauthlib    0.4.6\n",
      "google-pasta            0.2.0\n",
      "grpcio                  1.48.2\n",
      "h5py                    3.1.0\n",
      "html5lib                0.9999999\n",
      "idna                    3.4\n",
      "imageio                 2.9.0\n",
      "importlib-metadata      4.8.3\n",
      "ipykernel               5.5.6\n",
      "ipython                 7.16.3\n",
      "ipython-genutils        0.2.0\n",
      "jedi                    0.17.2\n",
      "joblib                  1.1.1\n",
      "jupyter-client          7.1.2\n",
      "jupyter-core            4.9.2\n",
      "keras                   2.6.0\n",
      "Keras-Preprocessing     1.1.2\n",
      "kiwisolver              1.3.1\n",
      "Markdown                3.3.7\n",
      "matplotlib              3.3.4\n",
      "mkl-fft                 1.3.0\n",
      "mkl-random              1.1.1\n",
      "mkl-service             2.3.0\n",
      "nest-asyncio            1.5.6\n",
      "networkx                2.5\n",
      "numpy                   1.19.2\n",
      "oauthlib                3.2.2\n",
      "olefile                 0.46\n",
      "opt-einsum              3.3.0\n",
      "parso                   0.7.1\n",
      "pexpect                 4.8.0\n",
      "pickleshare             0.7.5\n",
      "Pillow                  8.4.0\n",
      "pip                     21.2.2\n",
      "prompt-toolkit          3.0.36\n",
      "protobuf                3.19.6\n",
      "psutil                  5.9.5\n",
      "ptyprocess              0.7.0\n",
      "pyasn1                  0.5.0\n",
      "pyasn1-modules          0.3.0\n",
      "Pygments                2.14.0\n",
      "pyparsing               3.0.9\n",
      "python-dateutil         2.8.2\n",
      "PyWavelets              1.1.1\n",
      "PyYAML                  5.4.1\n",
      "pyzmq                   25.1.0\n",
      "requests                2.27.1\n",
      "requests-oauthlib       1.3.1\n",
      "rsa                     4.9\n",
      "scikit-image            0.17.2\n",
      "scikit-learn            0.24.2\n",
      "scipy                   1.5.4\n",
      "setuptools              58.0.4\n",
      "six                     1.16.0\n",
      "tensorboard             1.7.0\n",
      "tensorboard-data-server 0.6.1\n",
      "tensorboard-plugin-wit  1.8.1\n",
      "tensorflow              1.7.0\n",
      "tensorflow-estimator    2.6.0\n",
      "termcolor               1.1.0\n",
      "threadpoolctl           3.1.0\n",
      "tifffile                2020.10.1\n",
      "toolz                   0.11.2\n",
      "tornado                 6.1\n",
      "traitlets               4.3.3\n",
      "typing-extensions       3.7.4.3\n",
      "urllib3                 1.26.16\n",
      "wcwidth                 0.2.6\n",
      "Werkzeug                2.0.3\n",
      "wheel                   0.37.1\n",
      "wrapt                   1.12.1\n",
      "zipp                    3.6.0\n"
     ]
    }
   ],
   "source": [
    "!pip list"
   ]
  },
  {
   "cell_type": "code",
   "execution_count": 3,
   "id": "f0710266-55e4-4fd2-b1af-e981baa0a451",
   "metadata": {},
   "outputs": [
    {
     "name": "stdout",
     "output_type": "stream",
     "text": [
      "%pylab is deprecated, use %matplotlib inline and import the required libraries.\n",
      "Populating the interactive namespace from numpy and matplotlib\n"
     ]
    },
    {
     "ename": "ModuleNotFoundError",
     "evalue": "No module named 'models.network'",
     "output_type": "error",
     "traceback": [
      "\u001b[0;31m---------------------------------------------------------------------------\u001b[0m",
      "\u001b[0;31mModuleNotFoundError\u001b[0m                       Traceback (most recent call last)",
      "Cell \u001b[0;32mIn[3], line 11\u001b[0m\n\u001b[1;32m      9\u001b[0m \u001b[38;5;28;01mimport\u001b[39;00m \u001b[38;5;21;01mcopy\u001b[39;00m\n\u001b[1;32m     10\u001b[0m \u001b[38;5;28;01mfrom\u001b[39;00m \u001b[38;5;21;01msrc\u001b[39;00m\u001b[38;5;21;01m.\u001b[39;00m\u001b[38;5;21;01malign\u001b[39;00m \u001b[38;5;28;01mimport\u001b[39;00m detect_face\n\u001b[0;32m---> 11\u001b[0m \u001b[38;5;28;01mimport\u001b[39;00m \u001b[38;5;21;01mtmp\u001b[39;00m\u001b[38;5;21;01m.\u001b[39;00m\u001b[38;5;21;01mnn4\u001b[39;00m \u001b[38;5;28;01mas\u001b[39;00m \u001b[38;5;21;01mnetwork\u001b[39;00m\n\u001b[1;32m     12\u001b[0m \u001b[38;5;28;01mimport\u001b[39;00m \u001b[38;5;21;01mrandom\u001b[39;00m\n\u001b[1;32m     15\u001b[0m \u001b[38;5;28;01mimport\u001b[39;00m \u001b[38;5;21;01msklearn\u001b[39;00m\n",
      "File \u001b[0;32m~/PycharmProjects/ComputerVision/facenet-official/facenet/tmp/nn4.py:29\u001b[0m\n\u001b[1;32m     26\u001b[0m \u001b[38;5;28;01mfrom\u001b[39;00m \u001b[38;5;21;01m__future__\u001b[39;00m \u001b[38;5;28;01mimport\u001b[39;00m print_function\n\u001b[1;32m     28\u001b[0m \u001b[38;5;28;01mimport\u001b[39;00m \u001b[38;5;21;01mtensorflow\u001b[39;00m \u001b[38;5;28;01mas\u001b[39;00m \u001b[38;5;21;01mtf\u001b[39;00m\n\u001b[0;32m---> 29\u001b[0m \u001b[38;5;28;01mimport\u001b[39;00m \u001b[38;5;21;01mmodels\u001b[39;00m\u001b[38;5;21;01m.\u001b[39;00m\u001b[38;5;21;01mnetwork\u001b[39;00m \u001b[38;5;28;01mas\u001b[39;00m \u001b[38;5;21;01mnetwork\u001b[39;00m\n\u001b[1;32m     31\u001b[0m \u001b[38;5;28;01mdef\u001b[39;00m \u001b[38;5;21minference\u001b[39m(images, keep_probability, phase_train\u001b[38;5;241m=\u001b[39m\u001b[38;5;28;01mTrue\u001b[39;00m, weight_decay\u001b[38;5;241m=\u001b[39m\u001b[38;5;241m0.0\u001b[39m):\n\u001b[1;32m     32\u001b[0m     \u001b[38;5;124;03m\"\"\" Define an inference network for face recognition based \u001b[39;00m\n\u001b[1;32m     33\u001b[0m \u001b[38;5;124;03m           on inception modules using batch normalization\u001b[39;00m\n\u001b[1;32m     34\u001b[0m \u001b[38;5;124;03m    \u001b[39;00m\n\u001b[0;32m   (...)\u001b[0m\n\u001b[1;32m     37\u001b[0m \u001b[38;5;124;03m      phase_train: True if batch normalization should operate in training mode\u001b[39;00m\n\u001b[1;32m     38\u001b[0m \u001b[38;5;124;03m    \"\"\"\u001b[39;00m\n",
      "\u001b[0;31mModuleNotFoundError\u001b[0m: No module named 'models.network'"
     ]
    }
   ],
   "source": [
    "import tensorflow as tf\n",
    "import numpy as np\n",
    "import cv2\n",
    "import matplotlib.pyplot as plt\n",
    "%pylab inline\n",
    "import os\n",
    "from os.path import join as pjoin\n",
    "import sys\n",
    "import copy\n",
    "from src.align import detect_face\n",
    "import tmp.nn4 as network\n",
    "import random\n",
    "\n",
    "\n",
    "import sklearn\n",
    "\n",
    "from sklearn.externals import joblib"
   ]
  },
  {
   "cell_type": "code",
   "execution_count": null,
   "id": "10fb0b59-e678-4e78-b339-268c93d570f8",
   "metadata": {},
   "outputs": [],
   "source": []
  }
 ],
 "metadata": {
  "kernelspec": {
   "display_name": "Python 3 (ipykernel)",
   "language": "python",
   "name": "python3"
  },
  "language_info": {
   "codemirror_mode": {
    "name": "ipython",
    "version": 3
   },
   "file_extension": ".py",
   "mimetype": "text/x-python",
   "name": "python",
   "nbconvert_exporter": "python",
   "pygments_lexer": "ipython3",
   "version": "3.10.9"
  }
 },
 "nbformat": 4,
 "nbformat_minor": 5
}
