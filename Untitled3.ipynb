{
 "cells": [
  {
   "cell_type": "code",
   "execution_count": 7,
   "id": "66d59db9-4329-4cdb-b157-6e781362d51f",
   "metadata": {
    "tags": []
   },
   "outputs": [
    {
     "name": "stdout",
     "output_type": "stream",
     "text": [
      "Package                      Version\n",
      "---------------------------- ---------\n",
      "absl-py                      1.4.0\n",
      "astunparse                   1.6.3\n",
      "brotlipy                     0.7.0\n",
      "cachetools                   5.3.1\n",
      "certifi                      2022.12.7\n",
      "cffi                         1.15.1\n",
      "charset-normalizer           3.1.0\n",
      "cryptography                 39.0.1\n",
      "cycler                       0.11.0\n",
      "flatbuffers                  1.12\n",
      "fonttools                    4.25.0\n",
      "gast                         0.4.0\n",
      "google-auth                  2.20.0\n",
      "google-auth-oauthlib         0.4.6\n",
      "google-pasta                 0.2.0\n",
      "grpcio                       1.54.2\n",
      "h5py                         3.8.0\n",
      "idna                         3.4\n",
      "imageio                      2.31.1\n",
      "importlib-metadata           6.7.0\n",
      "joblib                       1.1.1\n",
      "keras                        2.9.0\n",
      "Keras-Preprocessing          1.1.2\n",
      "kiwisolver                   1.3.2\n",
      "libclang                     16.0.0\n",
      "Markdown                     3.4.3\n",
      "MarkupSafe                   2.1.3\n",
      "matplotlib                   3.5.3\n",
      "munkres                      1.1.4\n",
      "networkx                     2.6.3\n",
      "numpy                        1.21.6\n",
      "oauthlib                     3.2.2\n",
      "opt-einsum                   3.3.0\n",
      "packaging                    23.1\n",
      "Pillow                       9.4.0\n",
      "pip                          22.3.1\n",
      "ply                          3.11\n",
      "protobuf                     3.19.6\n",
      "psutil                       5.9.0\n",
      "pyasn1                       0.5.0\n",
      "pyasn1-modules               0.3.0\n",
      "pycparser                    2.21\n",
      "pyOpenSSL                    23.0.0\n",
      "pyparsing                    3.0.9\n",
      "PyQt5-sip                    12.11.0\n",
      "PySocks                      1.7.1\n",
      "python-dateutil              2.8.2\n",
      "PyWavelets                   1.3.0\n",
      "requests                     2.31.0\n",
      "requests-oauthlib            1.3.1\n",
      "rsa                          4.9\n",
      "scikit-image                 0.19.3\n",
      "scikit-learn                 1.0.2\n",
      "scipy                        1.7.3\n",
      "setuptools                   65.6.3\n",
      "sip                          6.6.2\n",
      "six                          1.16.0\n",
      "tensorboard                  2.9.1\n",
      "tensorboard-data-server      0.6.1\n",
      "tensorboard-plugin-wit       1.8.1\n",
      "tensorflow-estimator         2.9.0\n",
      "tensorflow-gpu               2.9.0\n",
      "tensorflow-io-gcs-filesystem 0.32.0\n",
      "termcolor                    2.3.0\n",
      "threadpoolctl                2.2.0\n",
      "tifffile                     2021.11.2\n",
      "toml                         0.10.2\n",
      "tornado                      6.2\n",
      "typing_extensions            4.6.3\n",
      "urllib3                      1.26.16\n",
      "Werkzeug                     2.2.3\n",
      "wheel                        0.38.4\n",
      "wrapt                        1.15.0\n",
      "zipp                         3.15.0\n"
     ]
    }
   ],
   "source": [
    "!pip list"
   ]
  },
  {
   "cell_type": "code",
   "execution_count": 6,
   "id": "3d796488-68a9-4e2b-9ba5-70c02a257d2c",
   "metadata": {},
   "outputs": [
    {
     "name": "stderr",
     "output_type": "stream",
     "text": [
      "2023-06-19 18:02:13.079785: I tensorflow/core/util/util.cc:169] oneDNN custom operations are on. You may see slightly different numerical results due to floating-point round-off errors from different computation orders. To turn them off, set the environment variable `TF_ENABLE_ONEDNN_OPTS=0`.\n"
     ]
    }
   ],
   "source": [
    "import tensorflow as tf"
   ]
  }
 ],
 "metadata": {
  "kernelspec": {
   "display_name": "Python 3 (ipykernel)",
   "language": "python",
   "name": "python3"
  },
  "language_info": {
   "codemirror_mode": {
    "name": "ipython",
    "version": 3
   },
   "file_extension": ".py",
   "mimetype": "text/x-python",
   "name": "python",
   "nbconvert_exporter": "python",
   "pygments_lexer": "ipython3",
   "version": "3.10.9"
  }
 },
 "nbformat": 4,
 "nbformat_minor": 5
}
